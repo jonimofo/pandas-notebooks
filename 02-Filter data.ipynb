{
 "cells": [
  {
   "cell_type": "code",
   "execution_count": 1,
   "id": "075bd506",
   "metadata": {
    "scrolled": true
   },
   "outputs": [
    {
     "data": {
      "text/html": [
       "<div>\n",
       "<style scoped>\n",
       "    .dataframe tbody tr th:only-of-type {\n",
       "        vertical-align: middle;\n",
       "    }\n",
       "\n",
       "    .dataframe tbody tr th {\n",
       "        vertical-align: top;\n",
       "    }\n",
       "\n",
       "    .dataframe thead th {\n",
       "        text-align: right;\n",
       "    }\n",
       "</style>\n",
       "<table border=\"1\" class=\"dataframe\">\n",
       "  <thead>\n",
       "    <tr style=\"text-align: right;\">\n",
       "      <th></th>\n",
       "      <th>code</th>\n",
       "      <th>nom</th>\n",
       "      <th>age</th>\n",
       "      <th>ville</th>\n",
       "      <th>cuisine_a_theme</th>\n",
       "      <th>livraison</th>\n",
       "    </tr>\n",
       "  </thead>\n",
       "  <tbody>\n",
       "    <tr>\n",
       "      <th>0</th>\n",
       "      <td>C11</td>\n",
       "      <td>Martin</td>\n",
       "      <td>50</td>\n",
       "      <td>Bordeaux</td>\n",
       "      <td>y</td>\n",
       "      <td>y</td>\n",
       "    </tr>\n",
       "    <tr>\n",
       "      <th>1</th>\n",
       "      <td>C22</td>\n",
       "      <td>Durand</td>\n",
       "      <td>40</td>\n",
       "      <td>Pessac</td>\n",
       "      <td>n</td>\n",
       "      <td>y</td>\n",
       "    </tr>\n",
       "    <tr>\n",
       "      <th>2</th>\n",
       "      <td>C33</td>\n",
       "      <td>Leboeuf</td>\n",
       "      <td>20</td>\n",
       "      <td>Bordeaux</td>\n",
       "      <td>n</td>\n",
       "      <td>n</td>\n",
       "    </tr>\n",
       "    <tr>\n",
       "      <th>3</th>\n",
       "      <td>C44</td>\n",
       "      <td>Carolin</td>\n",
       "      <td>35</td>\n",
       "      <td>La Rochelle</td>\n",
       "      <td>y</td>\n",
       "      <td>n</td>\n",
       "    </tr>\n",
       "  </tbody>\n",
       "</table>\n",
       "</div>"
      ],
      "text/plain": [
       "  code      nom  age        ville cuisine_a_theme livraison\n",
       "0  C11   Martin   50     Bordeaux               y         y\n",
       "1  C22   Durand   40       Pessac               n         y\n",
       "2  C33  Leboeuf   20     Bordeaux               n         n\n",
       "3  C44  Carolin   35  La Rochelle               y         n"
      ]
     },
     "execution_count": 1,
     "metadata": {},
     "output_type": "execute_result"
    }
   ],
   "source": [
    "import pandas as pd\n",
    "\n",
    "clients = {\n",
    "    'code': ['C11', 'C22', 'C33', 'C44'],\n",
    "    'nom': ['Martin', 'Durand', 'Leboeuf', 'Carolin'],\n",
    "    'age': [50, 40, 20, 35],\n",
    "    'ville': ['Bordeaux', 'Pessac', 'Bordeaux', 'La Rochelle'],\n",
    "    'cuisine_a_theme': ['y', 'n', 'n', 'y'],\n",
    "    'livraison': ['y', 'y', 'n', 'n']\n",
    "}\n",
    "\n",
    "# Create DataFrame\n",
    "df = pd.DataFrame(clients)\n",
    "df"
   ]
  },
  {
   "cell_type": "code",
   "execution_count": 58,
   "id": "3fad1754",
   "metadata": {},
   "outputs": [
    {
     "data": {
      "text/html": [
       "<div>\n",
       "<style scoped>\n",
       "    .dataframe tbody tr th:only-of-type {\n",
       "        vertical-align: middle;\n",
       "    }\n",
       "\n",
       "    .dataframe tbody tr th {\n",
       "        vertical-align: top;\n",
       "    }\n",
       "\n",
       "    .dataframe thead th {\n",
       "        text-align: right;\n",
       "    }\n",
       "</style>\n",
       "<table border=\"1\" class=\"dataframe\">\n",
       "  <thead>\n",
       "    <tr style=\"text-align: right;\">\n",
       "      <th></th>\n",
       "      <th>nom</th>\n",
       "      <th>age</th>\n",
       "      <th>ville</th>\n",
       "      <th>cuisine_a_theme</th>\n",
       "      <th>livraison</th>\n",
       "    </tr>\n",
       "    <tr>\n",
       "      <th>code</th>\n",
       "      <th></th>\n",
       "      <th></th>\n",
       "      <th></th>\n",
       "      <th></th>\n",
       "      <th></th>\n",
       "    </tr>\n",
       "  </thead>\n",
       "  <tbody>\n",
       "    <tr>\n",
       "      <th>C11</th>\n",
       "      <td>Martin</td>\n",
       "      <td>50</td>\n",
       "      <td>Bordeaux</td>\n",
       "      <td>y</td>\n",
       "      <td>y</td>\n",
       "    </tr>\n",
       "    <tr>\n",
       "      <th>C22</th>\n",
       "      <td>Durand</td>\n",
       "      <td>40</td>\n",
       "      <td>Pessac</td>\n",
       "      <td>n</td>\n",
       "      <td>y</td>\n",
       "    </tr>\n",
       "    <tr>\n",
       "      <th>C33</th>\n",
       "      <td>Leboeuf</td>\n",
       "      <td>20</td>\n",
       "      <td>Bordeaux</td>\n",
       "      <td>n</td>\n",
       "      <td>n</td>\n",
       "    </tr>\n",
       "    <tr>\n",
       "      <th>C44</th>\n",
       "      <td>Carolin</td>\n",
       "      <td>35</td>\n",
       "      <td>La Rochelle</td>\n",
       "      <td>y</td>\n",
       "      <td>n</td>\n",
       "    </tr>\n",
       "  </tbody>\n",
       "</table>\n",
       "</div>"
      ],
      "text/plain": [
       "          nom  age        ville cuisine_a_theme livraison\n",
       "code                                                     \n",
       "C11    Martin   50     Bordeaux               y         y\n",
       "C22    Durand   40       Pessac               n         y\n",
       "C33   Leboeuf   20     Bordeaux               n         n\n",
       "C44   Carolin   35  La Rochelle               y         n"
      ]
     },
     "execution_count": 58,
     "metadata": {},
     "output_type": "execute_result"
    }
   ],
   "source": [
    "# We can specify a column for pandas to use as index\n",
    "# Like pandas index, those values should be unique\n",
    "# for uniquer identifying\n",
    "\n",
    "# Note that the layout of columns names changed up a bit\n",
    "\n",
    "df2 = df.set_index('code')\n",
    "df2"
   ]
  },
  {
   "cell_type": "code",
   "execution_count": 59,
   "id": "4920b3af",
   "metadata": {},
   "outputs": [
    {
     "data": {
      "text/plain": [
       "nom                  Martin\n",
       "age                      50\n",
       "ville              Bordeaux\n",
       "cuisine_a_theme           y\n",
       "livraison                 y\n",
       "Name: C11, dtype: object"
      ]
     },
     "execution_count": 59,
     "metadata": {},
     "output_type": "execute_result"
    }
   ],
   "source": [
    "# It now makes it possible to use this new index with .loc\n",
    "df2.loc['C11']"
   ]
  },
  {
   "cell_type": "code",
   "execution_count": 63,
   "id": "11a99ebd",
   "metadata": {},
   "outputs": [
    {
     "data": {
      "text/html": [
       "<div>\n",
       "<style scoped>\n",
       "    .dataframe tbody tr th:only-of-type {\n",
       "        vertical-align: middle;\n",
       "    }\n",
       "\n",
       "    .dataframe tbody tr th {\n",
       "        vertical-align: top;\n",
       "    }\n",
       "\n",
       "    .dataframe thead th {\n",
       "        text-align: right;\n",
       "    }\n",
       "</style>\n",
       "<table border=\"1\" class=\"dataframe\">\n",
       "  <thead>\n",
       "    <tr style=\"text-align: right;\">\n",
       "      <th></th>\n",
       "      <th>code</th>\n",
       "      <th>nom</th>\n",
       "      <th>age</th>\n",
       "      <th>ville</th>\n",
       "      <th>cuisine_a_theme</th>\n",
       "      <th>livraison</th>\n",
       "    </tr>\n",
       "  </thead>\n",
       "  <tbody>\n",
       "    <tr>\n",
       "      <th>0</th>\n",
       "      <td>C11</td>\n",
       "      <td>Martin</td>\n",
       "      <td>50</td>\n",
       "      <td>Bordeaux</td>\n",
       "      <td>y</td>\n",
       "      <td>y</td>\n",
       "    </tr>\n",
       "    <tr>\n",
       "      <th>1</th>\n",
       "      <td>C22</td>\n",
       "      <td>Durand</td>\n",
       "      <td>40</td>\n",
       "      <td>Pessac</td>\n",
       "      <td>n</td>\n",
       "      <td>y</td>\n",
       "    </tr>\n",
       "    <tr>\n",
       "      <th>2</th>\n",
       "      <td>C33</td>\n",
       "      <td>Leboeuf</td>\n",
       "      <td>20</td>\n",
       "      <td>Bordeaux</td>\n",
       "      <td>n</td>\n",
       "      <td>n</td>\n",
       "    </tr>\n",
       "    <tr>\n",
       "      <th>3</th>\n",
       "      <td>C44</td>\n",
       "      <td>Carolin</td>\n",
       "      <td>35</td>\n",
       "      <td>La Rochelle</td>\n",
       "      <td>y</td>\n",
       "      <td>n</td>\n",
       "    </tr>\n",
       "  </tbody>\n",
       "</table>\n",
       "</div>"
      ],
      "text/plain": [
       "  code      nom  age        ville cuisine_a_theme livraison\n",
       "0  C11   Martin   50     Bordeaux               y         y\n",
       "1  C22   Durand   40       Pessac               n         y\n",
       "2  C33  Leboeuf   20     Bordeaux               n         n\n",
       "3  C44  Carolin   35  La Rochelle               y         n"
      ]
     },
     "execution_count": 63,
     "metadata": {},
     "output_type": "execute_result"
    }
   ],
   "source": [
    "# It's possible to revert the index change\n",
    "# drop parameter can avoid the old index being added as a column\n",
    "# drop=True\n",
    "\n",
    "df2.reset_index()"
   ]
  },
  {
   "cell_type": "code",
   "execution_count": 7,
   "id": "33a4e5b7",
   "metadata": {},
   "outputs": [
    {
     "data": {
      "text/plain": [
       "4"
      ]
     },
     "execution_count": 7,
     "metadata": {},
     "output_type": "execute_result"
    }
   ],
   "source": [
    "# Count number elements in Serie\n",
    "df['ville'].count()"
   ]
  },
  {
   "cell_type": "code",
   "execution_count": 11,
   "id": "d5605022",
   "metadata": {},
   "outputs": [
    {
     "data": {
      "text/plain": [
       "Bordeaux       2\n",
       "La Rochelle    1\n",
       "Pessac         1\n",
       "Name: ville, dtype: int64"
      ]
     },
     "execution_count": 11,
     "metadata": {},
     "output_type": "execute_result"
    }
   ],
   "source": [
    "# Count number of values in Serie\n",
    "df['ville'].value_counts()"
   ]
  },
  {
   "cell_type": "code",
   "execution_count": 17,
   "id": "c86a178e",
   "metadata": {},
   "outputs": [
    {
     "data": {
      "text/html": [
       "<div>\n",
       "<style scoped>\n",
       "    .dataframe tbody tr th:only-of-type {\n",
       "        vertical-align: middle;\n",
       "    }\n",
       "\n",
       "    .dataframe tbody tr th {\n",
       "        vertical-align: top;\n",
       "    }\n",
       "\n",
       "    .dataframe thead th {\n",
       "        text-align: right;\n",
       "    }\n",
       "</style>\n",
       "<table border=\"1\" class=\"dataframe\">\n",
       "  <thead>\n",
       "    <tr style=\"text-align: right;\">\n",
       "      <th></th>\n",
       "      <th>code</th>\n",
       "      <th>nom</th>\n",
       "      <th>age</th>\n",
       "      <th>ville</th>\n",
       "      <th>cuisine_a_theme</th>\n",
       "      <th>livraison</th>\n",
       "    </tr>\n",
       "  </thead>\n",
       "  <tbody>\n",
       "    <tr>\n",
       "      <th>1</th>\n",
       "      <td>C22</td>\n",
       "      <td>Durand</td>\n",
       "      <td>40</td>\n",
       "      <td>Pessac</td>\n",
       "      <td>n</td>\n",
       "      <td>y</td>\n",
       "    </tr>\n",
       "    <tr>\n",
       "      <th>2</th>\n",
       "      <td>C33</td>\n",
       "      <td>Leboeuf</td>\n",
       "      <td>20</td>\n",
       "      <td>Bordeaux</td>\n",
       "      <td>n</td>\n",
       "      <td>n</td>\n",
       "    </tr>\n",
       "  </tbody>\n",
       "</table>\n",
       "</div>"
      ],
      "text/plain": [
       "  code      nom  age     ville cuisine_a_theme livraison\n",
       "1  C22   Durand   40    Pessac               n         y\n",
       "2  C33  Leboeuf   20  Bordeaux               n         n"
      ]
     },
     "execution_count": 17,
     "metadata": {},
     "output_type": "execute_result"
    }
   ],
   "source": [
    "# Filter data from array list\n",
    "names = ['Durand', 'Leboeuf']\n",
    "\n",
    "df.loc[df['nom'].isin(names)]"
   ]
  },
  {
   "cell_type": "code",
   "execution_count": 21,
   "id": "e36a93fe",
   "metadata": {},
   "outputs": [
    {
     "data": {
      "text/html": [
       "<div>\n",
       "<style scoped>\n",
       "    .dataframe tbody tr th:only-of-type {\n",
       "        vertical-align: middle;\n",
       "    }\n",
       "\n",
       "    .dataframe tbody tr th {\n",
       "        vertical-align: top;\n",
       "    }\n",
       "\n",
       "    .dataframe thead th {\n",
       "        text-align: right;\n",
       "    }\n",
       "</style>\n",
       "<table border=\"1\" class=\"dataframe\">\n",
       "  <thead>\n",
       "    <tr style=\"text-align: right;\">\n",
       "      <th></th>\n",
       "      <th>code</th>\n",
       "      <th>nom</th>\n",
       "      <th>age</th>\n",
       "      <th>ville</th>\n",
       "      <th>cuisine_a_theme</th>\n",
       "      <th>livraison</th>\n",
       "    </tr>\n",
       "  </thead>\n",
       "  <tbody>\n",
       "    <tr>\n",
       "      <th>0</th>\n",
       "      <td>C11</td>\n",
       "      <td>Martin</td>\n",
       "      <td>50</td>\n",
       "      <td>Bordeaux</td>\n",
       "      <td>y</td>\n",
       "      <td>y</td>\n",
       "    </tr>\n",
       "    <tr>\n",
       "      <th>2</th>\n",
       "      <td>C33</td>\n",
       "      <td>Leboeuf</td>\n",
       "      <td>20</td>\n",
       "      <td>Bordeaux</td>\n",
       "      <td>n</td>\n",
       "      <td>n</td>\n",
       "    </tr>\n",
       "  </tbody>\n",
       "</table>\n",
       "</div>"
      ],
      "text/plain": [
       "  code      nom  age     ville cuisine_a_theme livraison\n",
       "0  C11   Martin   50  Bordeaux               y         y\n",
       "2  C33  Leboeuf   20  Bordeaux               n         n"
      ]
     },
     "execution_count": 21,
     "metadata": {},
     "output_type": "execute_result"
    }
   ],
   "source": [
    "# Note that .loc allows us to use a filter/pattern to search\n",
    "filtr = df['ville'] == \"Bordeaux\"\n",
    "df.loc[filtr]"
   ]
  },
  {
   "cell_type": "code",
   "execution_count": 28,
   "id": "152ffb41",
   "metadata": {},
   "outputs": [
    {
     "data": {
      "text/html": [
       "<div>\n",
       "<style scoped>\n",
       "    .dataframe tbody tr th:only-of-type {\n",
       "        vertical-align: middle;\n",
       "    }\n",
       "\n",
       "    .dataframe tbody tr th {\n",
       "        vertical-align: top;\n",
       "    }\n",
       "\n",
       "    .dataframe thead th {\n",
       "        text-align: right;\n",
       "    }\n",
       "</style>\n",
       "<table border=\"1\" class=\"dataframe\">\n",
       "  <thead>\n",
       "    <tr style=\"text-align: right;\">\n",
       "      <th></th>\n",
       "      <th>code</th>\n",
       "      <th>nom</th>\n",
       "      <th>age</th>\n",
       "      <th>ville</th>\n",
       "      <th>cuisine_a_theme</th>\n",
       "      <th>livraison</th>\n",
       "    </tr>\n",
       "  </thead>\n",
       "  <tbody>\n",
       "    <tr>\n",
       "      <th>1</th>\n",
       "      <td>C22</td>\n",
       "      <td>Durand</td>\n",
       "      <td>40</td>\n",
       "      <td>Pessac</td>\n",
       "      <td>n</td>\n",
       "      <td>y</td>\n",
       "    </tr>\n",
       "    <tr>\n",
       "      <th>3</th>\n",
       "      <td>C44</td>\n",
       "      <td>Carolin</td>\n",
       "      <td>35</td>\n",
       "      <td>La Rochelle</td>\n",
       "      <td>y</td>\n",
       "      <td>n</td>\n",
       "    </tr>\n",
       "  </tbody>\n",
       "</table>\n",
       "</div>"
      ],
      "text/plain": [
       "  code      nom  age        ville cuisine_a_theme livraison\n",
       "1  C22   Durand   40       Pessac               n         y\n",
       "3  C44  Carolin   35  La Rochelle               y         n"
      ]
     },
     "execution_count": 28,
     "metadata": {},
     "output_type": "execute_result"
    }
   ],
   "source": [
    "# \"&\", \"|\" and \"~\" can be used for more filtering\n",
    "# \"&\" : and (to chain conditions)\n",
    "# \"|\" : or (one pattern OR the other)\n",
    "# \"~\" : for reverse/negative search\n",
    "\n",
    "fitr = (df['ville'] == \"Bordeaux\") & (df['livraison'] == 'y')\n",
    "df.loc[~filtr]"
   ]
  },
  {
   "cell_type": "code",
   "execution_count": 42,
   "id": "1dcd8d61",
   "metadata": {},
   "outputs": [
    {
     "data": {
      "text/plain": [
       "145"
      ]
     },
     "execution_count": 42,
     "metadata": {},
     "output_type": "execute_result"
    }
   ],
   "source": [
    "# TODO\n",
    "# Calculate sum of column. Transform into a Series\n",
    "# for Numpy operations\n",
    "import numpy as np\n",
    "\n",
    "age = df['age']\n",
    "np.sum(age)"
   ]
  }
 ],
 "metadata": {
  "kernelspec": {
   "display_name": "Python 3",
   "language": "python",
   "name": "python3"
  },
  "language_info": {
   "codemirror_mode": {
    "name": "ipython",
    "version": 3
   },
   "file_extension": ".py",
   "mimetype": "text/x-python",
   "name": "python",
   "nbconvert_exporter": "python",
   "pygments_lexer": "ipython3",
   "version": "3.8.5"
  }
 },
 "nbformat": 4,
 "nbformat_minor": 5
}
