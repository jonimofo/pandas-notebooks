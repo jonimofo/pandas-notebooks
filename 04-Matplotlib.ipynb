{
 "cells": [
  {
   "cell_type": "code",
   "execution_count": 54,
   "metadata": {},
   "outputs": [
    {
     "data": {
      "text/html": [
       "<div>\n",
       "<style scoped>\n",
       "    .dataframe tbody tr th:only-of-type {\n",
       "        vertical-align: middle;\n",
       "    }\n",
       "\n",
       "    .dataframe tbody tr th {\n",
       "        vertical-align: top;\n",
       "    }\n",
       "\n",
       "    .dataframe thead th {\n",
       "        text-align: right;\n",
       "    }\n",
       "</style>\n",
       "<table border=\"1\" class=\"dataframe\">\n",
       "  <thead>\n",
       "    <tr style=\"text-align: right;\">\n",
       "      <th></th>\n",
       "      <th>code</th>\n",
       "      <th>groupe_art</th>\n",
       "      <th>marque</th>\n",
       "      <th>etat</th>\n",
       "      <th>unite_vente</th>\n",
       "      <th>unite_achat</th>\n",
       "      <th>tarif_TG</th>\n",
       "      <th>tarif_ELIOR</th>\n",
       "    </tr>\n",
       "  </thead>\n",
       "  <tbody>\n",
       "    <tr>\n",
       "      <th>0</th>\n",
       "      <td>27310</td>\n",
       "      <td>BOF</td>\n",
       "      <td>LA CARTE</td>\n",
       "      <td>Frais</td>\n",
       "      <td>PAL</td>\n",
       "      <td>PAL</td>\n",
       "      <td>100</td>\n",
       "      <td>88</td>\n",
       "    </tr>\n",
       "    <tr>\n",
       "      <th>1</th>\n",
       "      <td>101001</td>\n",
       "      <td>BOF</td>\n",
       "      <td>CDP</td>\n",
       "      <td>Surgele</td>\n",
       "      <td>COL</td>\n",
       "      <td>CCH</td>\n",
       "      <td>23</td>\n",
       "      <td>48</td>\n",
       "    </tr>\n",
       "    <tr>\n",
       "      <th>2</th>\n",
       "      <td>54877</td>\n",
       "      <td>MER</td>\n",
       "      <td>CDP</td>\n",
       "      <td>Surgele</td>\n",
       "      <td>COL</td>\n",
       "      <td>PAL</td>\n",
       "      <td>89</td>\n",
       "      <td>48</td>\n",
       "    </tr>\n",
       "    <tr>\n",
       "      <th>3</th>\n",
       "      <td>64587</td>\n",
       "      <td>PAT</td>\n",
       "      <td>SEB</td>\n",
       "      <td>Frais</td>\n",
       "      <td>BTQ</td>\n",
       "      <td>PAL</td>\n",
       "      <td>76</td>\n",
       "      <td>293</td>\n",
       "    </tr>\n",
       "  </tbody>\n",
       "</table>\n",
       "</div>"
      ],
      "text/plain": [
       "     code groupe_art    marque     etat unite_vente unite_achat  tarif_TG  \\\n",
       "0   27310        BOF  LA CARTE    Frais         PAL         PAL       100   \n",
       "1  101001        BOF       CDP  Surgele         COL         CCH        23   \n",
       "2   54877        MER       CDP  Surgele         COL         PAL        89   \n",
       "3   64587        PAT       SEB    Frais         BTQ         PAL        76   \n",
       "\n",
       "   tarif_ELIOR  \n",
       "0           88  \n",
       "1           48  \n",
       "2           48  \n",
       "3          293  "
      ]
     },
     "execution_count": 54,
     "metadata": {},
     "output_type": "execute_result"
    }
   ],
   "source": [
    "import matplotlib\n",
    "import pandas as pd\n",
    "\n",
    "donnees_articles = {\n",
    "    \"code\": ['27310', '101001', '54877', '64587'],\n",
    "    \"groupe_art\": ['BOF', 'BOF', 'MER', 'PAT'],\n",
    "    \"marque\": ['LA CARTE', 'CDP', 'CDP', 'SEB'],\n",
    "    \"etat\": ['Frais', 'Surgele', 'Surgele', 'Frais'],\n",
    "    \"unite_vente\": ['PAL', 'COL', 'COL', 'BTQ'],\n",
    "    \"unite_achat\": ['PAL', 'CCH', 'PAL', 'PAL'],\n",
    "    \"tarif_TG\": [100, 23, 89, 76],\n",
    "    \"tarif_ELIOR\": [88, 48, 48, 293]\n",
    "}\n",
    "\n",
    "df = pd.DataFrame(donnees_articles)\n",
    "df"
   ]
  },
  {
   "cell_type": "raw",
   "metadata": {},
   "source": []
  },
  {
   "cell_type": "code",
   "execution_count": 55,
   "metadata": {},
   "outputs": [
    {
     "data": {
      "text/plain": [
       "<AxesSubplot:xlabel='code article', ylabel='Prix €'>"
      ]
     },
     "execution_count": 55,
     "metadata": {},
     "output_type": "execute_result"
    },
    {
     "data": {
      "image/png": "[encoded data removed]",
      "text/plain": [
       "<Figure size 432x288 with 1 Axes>"
      ]
     },
     "metadata": {
      "needs_background": "light"
     },
     "output_type": "display_data"
    }
   ],
   "source": [
    "%matplotlib inline\n",
    "\n",
    "df.plot(x='code', xlabel='code article', y=['tarif_TG', 'tarif_ELIOR'], ylabel=\"Prix €\", kind=\"bar\")"
   ]
  },
  {
   "cell_type": "code",
   "execution_count": 56,
   "metadata": {},
   "outputs": [
    {
     "data": {
      "text/plain": [
       "'{\\n  \"columns\": [\\n    \"code\",\\n    \"groupe_art\"\\n  ],\\n  \"index\": [\\n    0,\\n    1,\\n    2,\\n    3\\n  ],\\n  \"data\": [\\n    [\\n      \"27310\",\\n      \"BOF\"\\n    ],\\n    [\\n      \"101001\",\\n      \"BOF\"\\n    ],\\n    [\\n      \"54877\",\\n      \"MER\"\\n    ],\\n    [\\n      \"64587\",\\n      \"PAT\"\\n    ]\\n  ]\\n}'"
      ]
     },
     "execution_count": 56,
     "metadata": {},
     "output_type": "execute_result"
    }
   ],
   "source": [
    "import json\n",
    "\n",
    "df2 = df[['code', 'groupe_art']]\n",
    "result = df2.to_json(orient=\"split\")\n",
    "parsed = json.loads(result)\n",
    "json.dumps(parsed, indent=2)"
   ]
  },
  {
   "cell_type": "code",
   "execution_count": 57,
   "metadata": {},
   "outputs": [
    {
     "data": {
      "text/html": [
       "<div>\n",
       "<style scoped>\n",
       "    .dataframe tbody tr th:only-of-type {\n",
       "        vertical-align: middle;\n",
       "    }\n",
       "\n",
       "    .dataframe tbody tr th {\n",
       "        vertical-align: top;\n",
       "    }\n",
       "\n",
       "    .dataframe thead th {\n",
       "        text-align: right;\n",
       "    }\n",
       "</style>\n",
       "<table border=\"1\" class=\"dataframe\">\n",
       "  <thead>\n",
       "    <tr style=\"text-align: right;\">\n",
       "      <th></th>\n",
       "      <th>code</th>\n",
       "      <th>groupe_art</th>\n",
       "      <th>marque</th>\n",
       "      <th>etat</th>\n",
       "      <th>unite_vente</th>\n",
       "      <th>unite_achat</th>\n",
       "      <th>tarif_TG</th>\n",
       "      <th>tarif_ELIOR</th>\n",
       "    </tr>\n",
       "  </thead>\n",
       "  <tbody>\n",
       "    <tr>\n",
       "      <th>0</th>\n",
       "      <td>27310</td>\n",
       "      <td>BOF</td>\n",
       "      <td>LA CARTE</td>\n",
       "      <td>Frais</td>\n",
       "      <td>PAL</td>\n",
       "      <td>PAL</td>\n",
       "      <td>100</td>\n",
       "      <td>88</td>\n",
       "    </tr>\n",
       "    <tr>\n",
       "      <th>1</th>\n",
       "      <td>101001</td>\n",
       "      <td>BOF</td>\n",
       "      <td>CDP</td>\n",
       "      <td>Surgele</td>\n",
       "      <td>COL</td>\n",
       "      <td>CCH</td>\n",
       "      <td>23</td>\n",
       "      <td>48</td>\n",
       "    </tr>\n",
       "    <tr>\n",
       "      <th>2</th>\n",
       "      <td>54877</td>\n",
       "      <td>MER</td>\n",
       "      <td>CDP</td>\n",
       "      <td>Surgele</td>\n",
       "      <td>COL</td>\n",
       "      <td>PAL</td>\n",
       "      <td>89</td>\n",
       "      <td>48</td>\n",
       "    </tr>\n",
       "    <tr>\n",
       "      <th>3</th>\n",
       "      <td>64587</td>\n",
       "      <td>PAT</td>\n",
       "      <td>SEB</td>\n",
       "      <td>Frais</td>\n",
       "      <td>BTQ</td>\n",
       "      <td>PAL</td>\n",
       "      <td>76</td>\n",
       "      <td>293</td>\n",
       "    </tr>\n",
       "  </tbody>\n",
       "</table>\n",
       "</div>"
      ],
      "text/plain": [
       "     code groupe_art    marque     etat unite_vente unite_achat  tarif_TG  \\\n",
       "0   27310        BOF  LA CARTE    Frais         PAL         PAL       100   \n",
       "1  101001        BOF       CDP  Surgele         COL         CCH        23   \n",
       "2   54877        MER       CDP  Surgele         COL         PAL        89   \n",
       "3   64587        PAT       SEB    Frais         BTQ         PAL        76   \n",
       "\n",
       "   tarif_ELIOR  \n",
       "0           88  \n",
       "1           48  \n",
       "2           48  \n",
       "3          293  "
      ]
     },
     "execution_count": 57,
     "metadata": {},
     "output_type": "execute_result"
    }
   ],
   "source": [
    "\n",
    "df"
   ]
  },
  {
   "cell_type": "code",
   "execution_count": 58,
   "metadata": {},
   "outputs": [
    {
     "data": {
      "text/html": [
       "<div>\n",
       "<style scoped>\n",
       "    .dataframe tbody tr th:only-of-type {\n",
       "        vertical-align: middle;\n",
       "    }\n",
       "\n",
       "    .dataframe tbody tr th {\n",
       "        vertical-align: top;\n",
       "    }\n",
       "\n",
       "    .dataframe thead th {\n",
       "        text-align: right;\n",
       "    }\n",
       "</style>\n",
       "<table border=\"1\" class=\"dataframe\">\n",
       "  <thead>\n",
       "    <tr style=\"text-align: right;\">\n",
       "      <th></th>\n",
       "      <th>code</th>\n",
       "      <th>groupe_art</th>\n",
       "      <th>marque</th>\n",
       "      <th>etat</th>\n",
       "      <th>unite_vente</th>\n",
       "      <th>unite_achat</th>\n",
       "      <th>tarif_TG</th>\n",
       "      <th>tarif_ELIOR</th>\n",
       "    </tr>\n",
       "  </thead>\n",
       "  <tbody>\n",
       "    <tr>\n",
       "      <th>1</th>\n",
       "      <td>101001</td>\n",
       "      <td>BOF</td>\n",
       "      <td>CDP</td>\n",
       "      <td>Surgele</td>\n",
       "      <td>COL</td>\n",
       "      <td>CCH</td>\n",
       "      <td>23</td>\n",
       "      <td>48</td>\n",
       "    </tr>\n",
       "  </tbody>\n",
       "</table>\n",
       "</div>"
      ],
      "text/plain": [
       "     code groupe_art marque     etat unite_vente unite_achat  tarif_TG  \\\n",
       "1  101001        BOF    CDP  Surgele         COL         CCH        23   \n",
       "\n",
       "   tarif_ELIOR  \n",
       "1           48  "
      ]
     },
     "execution_count": 58,
     "metadata": {},
     "output_type": "execute_result"
    }
   ],
   "source": [
    "def check_coherence_prix(df):\n",
    "    pattern = (df['groupe_art'] == 'BOF') & (df['tarif_ELIOR'] > df['tarif_TG'])\n",
    "    new_df = df.loc[pattern]\n",
    "    return new_df\n",
    "\n",
    "check_coherence_prix(df)"
   ]
  },
  {
   "cell_type": "code",
   "execution_count": 66,
   "metadata": {},
   "outputs": [],
   "source": [
    "df = df.set_index('code')"
   ]
  },
  {
   "cell_type": "code",
   "execution_count": 75,
   "metadata": {},
   "outputs": [
    {
     "data": {
      "text/plain": [
       "marque         LA CARTE\n",
       "unite_achat         PAL\n",
       "Name: 27310, dtype: object"
      ]
     },
     "execution_count": 75,
     "metadata": {},
     "output_type": "execute_result"
    }
   ],
   "source": [
    "df.loc['27310', ['marque','unite_achat']]"
   ]
  },
  {
   "cell_type": "code",
   "execution_count": 76,
   "metadata": {},
   "outputs": [],
   "source": [
    "# TODO itertuples"
   ]
  }
 ],
 "metadata": {
  "kernelspec": {
   "display_name": "Python 3",
   "language": "python",
   "name": "python3"
  },
  "language_info": {
   "codemirror_mode": {
    "name": "ipython",
    "version": 3
   },
   "file_extension": ".py",
   "mimetype": "text/x-python",
   "name": "python",
   "nbconvert_exporter": "python",
   "pygments_lexer": "ipython3",
   "version": "3.8.5"
  }
 },
 "nbformat": 4,
 "nbformat_minor": 4
}
