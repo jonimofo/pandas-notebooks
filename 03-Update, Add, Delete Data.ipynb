{
 "cells": [
  {
   "cell_type": "code",
   "execution_count": 44,
   "metadata": {},
   "outputs": [
    {
     "data": {
      "text/html": [
       "<div>\n",
       "<style scoped>\n",
       "    .dataframe tbody tr th:only-of-type {\n",
       "        vertical-align: middle;\n",
       "    }\n",
       "\n",
       "    .dataframe tbody tr th {\n",
       "        vertical-align: top;\n",
       "    }\n",
       "\n",
       "    .dataframe thead th {\n",
       "        text-align: right;\n",
       "    }\n",
       "</style>\n",
       "<table border=\"1\" class=\"dataframe\">\n",
       "  <thead>\n",
       "    <tr style=\"text-align: right;\">\n",
       "      <th></th>\n",
       "      <th>code</th>\n",
       "      <th>nom</th>\n",
       "      <th>age</th>\n",
       "      <th>ville</th>\n",
       "      <th>cuisine_a_theme</th>\n",
       "      <th>livraison</th>\n",
       "    </tr>\n",
       "  </thead>\n",
       "  <tbody>\n",
       "    <tr>\n",
       "      <th>0</th>\n",
       "      <td>C11</td>\n",
       "      <td>Martin</td>\n",
       "      <td>50</td>\n",
       "      <td>Bordeaux</td>\n",
       "      <td>y</td>\n",
       "      <td>y</td>\n",
       "    </tr>\n",
       "    <tr>\n",
       "      <th>1</th>\n",
       "      <td>C22</td>\n",
       "      <td>Durand</td>\n",
       "      <td>40</td>\n",
       "      <td>Pessac</td>\n",
       "      <td>n</td>\n",
       "      <td>y</td>\n",
       "    </tr>\n",
       "    <tr>\n",
       "      <th>2</th>\n",
       "      <td>C33</td>\n",
       "      <td>Leboeuf</td>\n",
       "      <td>20</td>\n",
       "      <td>Bordeaux</td>\n",
       "      <td>n</td>\n",
       "      <td>n</td>\n",
       "    </tr>\n",
       "    <tr>\n",
       "      <th>3</th>\n",
       "      <td>C44</td>\n",
       "      <td>Carolin</td>\n",
       "      <td>35</td>\n",
       "      <td>La Rochelle</td>\n",
       "      <td>y</td>\n",
       "      <td>n</td>\n",
       "    </tr>\n",
       "  </tbody>\n",
       "</table>\n",
       "</div>"
      ],
      "text/plain": [
       "  code      nom  age        ville cuisine_a_theme livraison\n",
       "0  C11   Martin   50     Bordeaux               y         y\n",
       "1  C22   Durand   40       Pessac               n         y\n",
       "2  C33  Leboeuf   20     Bordeaux               n         n\n",
       "3  C44  Carolin   35  La Rochelle               y         n"
      ]
     },
     "execution_count": 44,
     "metadata": {},
     "output_type": "execute_result"
    }
   ],
   "source": [
    "import pandas as pd\n",
    "\n",
    "clients = {\n",
    "    'code': ['C11', 'C22', 'C33', 'C44'],\n",
    "    'nom': ['Martin', 'Durand', 'Leboeuf', 'Carolin'],\n",
    "    'age': [50, 40, 20, 35],\n",
    "    'ville': ['Bordeaux', 'Pessac', 'Bordeaux', 'La Rochelle'],\n",
    "    'cuisine_a_theme': ['y', 'n', 'n', 'y'],\n",
    "    'livraison': ['y', 'y', 'n', 'n']\n",
    "}\n",
    "\n",
    "# Create DataFrame\n",
    "df = pd.DataFrame(clients)\n",
    "# Create DataFrame copy to mess around with it\n",
    "df2 = df\n",
    "df"
   ]
  },
  {
   "cell_type": "markdown",
   "metadata": {},
   "source": [
    "## Add column"
   ]
  },
  {
   "cell_type": "code",
   "execution_count": 45,
   "metadata": {},
   "outputs": [
    {
     "data": {
      "text/html": [
       "<div>\n",
       "<style scoped>\n",
       "    .dataframe tbody tr th:only-of-type {\n",
       "        vertical-align: middle;\n",
       "    }\n",
       "\n",
       "    .dataframe tbody tr th {\n",
       "        vertical-align: top;\n",
       "    }\n",
       "\n",
       "    .dataframe thead th {\n",
       "        text-align: right;\n",
       "    }\n",
       "</style>\n",
       "<table border=\"1\" class=\"dataframe\">\n",
       "  <thead>\n",
       "    <tr style=\"text-align: right;\">\n",
       "      <th></th>\n",
       "      <th>code</th>\n",
       "      <th>nom</th>\n",
       "      <th>age</th>\n",
       "      <th>ville</th>\n",
       "      <th>cuisine_a_theme</th>\n",
       "      <th>livraison</th>\n",
       "      <th>commentaire</th>\n",
       "    </tr>\n",
       "  </thead>\n",
       "  <tbody>\n",
       "    <tr>\n",
       "      <th>0</th>\n",
       "      <td>C11</td>\n",
       "      <td>Martin</td>\n",
       "      <td>50</td>\n",
       "      <td>Bordeaux</td>\n",
       "      <td>y</td>\n",
       "      <td>y</td>\n",
       "      <td></td>\n",
       "    </tr>\n",
       "    <tr>\n",
       "      <th>1</th>\n",
       "      <td>C22</td>\n",
       "      <td>Durand</td>\n",
       "      <td>40</td>\n",
       "      <td>Pessac</td>\n",
       "      <td>n</td>\n",
       "      <td>y</td>\n",
       "      <td></td>\n",
       "    </tr>\n",
       "    <tr>\n",
       "      <th>2</th>\n",
       "      <td>C33</td>\n",
       "      <td>Leboeuf</td>\n",
       "      <td>20</td>\n",
       "      <td>Bordeaux</td>\n",
       "      <td>n</td>\n",
       "      <td>n</td>\n",
       "      <td></td>\n",
       "    </tr>\n",
       "    <tr>\n",
       "      <th>3</th>\n",
       "      <td>C44</td>\n",
       "      <td>Carolin</td>\n",
       "      <td>35</td>\n",
       "      <td>La Rochelle</td>\n",
       "      <td>y</td>\n",
       "      <td>n</td>\n",
       "      <td></td>\n",
       "    </tr>\n",
       "  </tbody>\n",
       "</table>\n",
       "</div>"
      ],
      "text/plain": [
       "  code      nom  age        ville cuisine_a_theme livraison commentaire\n",
       "0  C11   Martin   50     Bordeaux               y         y            \n",
       "1  C22   Durand   40       Pessac               n         y            \n",
       "2  C33  Leboeuf   20     Bordeaux               n         n            \n",
       "3  C44  Carolin   35  La Rochelle               y         n            "
      ]
     },
     "execution_count": 45,
     "metadata": {},
     "output_type": "execute_result"
    }
   ],
   "source": [
    "# Add column to DataFrame with default value\n",
    "df2['commentaire'] = ''\n",
    "df2"
   ]
  },
  {
   "cell_type": "markdown",
   "metadata": {},
   "source": [
    "## Update column"
   ]
  },
  {
   "cell_type": "code",
   "execution_count": 46,
   "metadata": {
    "scrolled": false
   },
   "outputs": [
    {
     "data": {
      "text/html": [
       "<div>\n",
       "<style scoped>\n",
       "    .dataframe tbody tr th:only-of-type {\n",
       "        vertical-align: middle;\n",
       "    }\n",
       "\n",
       "    .dataframe tbody tr th {\n",
       "        vertical-align: top;\n",
       "    }\n",
       "\n",
       "    .dataframe thead th {\n",
       "        text-align: right;\n",
       "    }\n",
       "</style>\n",
       "<table border=\"1\" class=\"dataframe\">\n",
       "  <thead>\n",
       "    <tr style=\"text-align: right;\">\n",
       "      <th></th>\n",
       "      <th>code</th>\n",
       "      <th>nom</th>\n",
       "      <th>age</th>\n",
       "      <th>ville</th>\n",
       "      <th>cuisine_a_theme</th>\n",
       "      <th>livraison</th>\n",
       "      <th>commentaire</th>\n",
       "    </tr>\n",
       "  </thead>\n",
       "  <tbody>\n",
       "    <tr>\n",
       "      <th>0</th>\n",
       "      <td>C11</td>\n",
       "      <td>Martin</td>\n",
       "      <td>100</td>\n",
       "      <td>Bordeaux</td>\n",
       "      <td>y</td>\n",
       "      <td>y</td>\n",
       "      <td></td>\n",
       "    </tr>\n",
       "    <tr>\n",
       "      <th>1</th>\n",
       "      <td>C22</td>\n",
       "      <td>Durand</td>\n",
       "      <td>100</td>\n",
       "      <td>Pessac</td>\n",
       "      <td>n</td>\n",
       "      <td>y</td>\n",
       "      <td></td>\n",
       "    </tr>\n",
       "    <tr>\n",
       "      <th>2</th>\n",
       "      <td>C33</td>\n",
       "      <td>Leboeuf</td>\n",
       "      <td>100</td>\n",
       "      <td>Bordeaux</td>\n",
       "      <td>n</td>\n",
       "      <td>n</td>\n",
       "      <td></td>\n",
       "    </tr>\n",
       "    <tr>\n",
       "      <th>3</th>\n",
       "      <td>C44</td>\n",
       "      <td>Carolin</td>\n",
       "      <td>100</td>\n",
       "      <td>La Rochelle</td>\n",
       "      <td>y</td>\n",
       "      <td>n</td>\n",
       "      <td></td>\n",
       "    </tr>\n",
       "  </tbody>\n",
       "</table>\n",
       "</div>"
      ],
      "text/plain": [
       "  code      nom  age        ville cuisine_a_theme livraison commentaire\n",
       "0  C11   Martin  100     Bordeaux               y         y            \n",
       "1  C22   Durand  100       Pessac               n         y            \n",
       "2  C33  Leboeuf  100     Bordeaux               n         n            \n",
       "3  C44  Carolin  100  La Rochelle               y         n            "
      ]
     },
     "execution_count": 46,
     "metadata": {},
     "output_type": "execute_result"
    }
   ],
   "source": [
    "# Set value for entire column\n",
    "df2['age'] = 100\n",
    "df2"
   ]
  },
  {
   "cell_type": "code",
   "execution_count": 47,
   "metadata": {},
   "outputs": [
    {
     "data": {
      "text/html": [
       "<div>\n",
       "<style scoped>\n",
       "    .dataframe tbody tr th:only-of-type {\n",
       "        vertical-align: middle;\n",
       "    }\n",
       "\n",
       "    .dataframe tbody tr th {\n",
       "        vertical-align: top;\n",
       "    }\n",
       "\n",
       "    .dataframe thead th {\n",
       "        text-align: right;\n",
       "    }\n",
       "</style>\n",
       "<table border=\"1\" class=\"dataframe\">\n",
       "  <thead>\n",
       "    <tr style=\"text-align: right;\">\n",
       "      <th></th>\n",
       "      <th>code</th>\n",
       "      <th>nom</th>\n",
       "      <th>age</th>\n",
       "      <th>ville</th>\n",
       "      <th>cuisine_a_theme</th>\n",
       "      <th>livraison</th>\n",
       "      <th>commentaire</th>\n",
       "    </tr>\n",
       "  </thead>\n",
       "  <tbody>\n",
       "    <tr>\n",
       "      <th>0</th>\n",
       "      <td>C11</td>\n",
       "      <td>Martin</td>\n",
       "      <td>100</td>\n",
       "      <td>Bordeaux</td>\n",
       "      <td>y</td>\n",
       "      <td>y</td>\n",
       "      <td>A démarcher</td>\n",
       "    </tr>\n",
       "    <tr>\n",
       "      <th>1</th>\n",
       "      <td>C22</td>\n",
       "      <td>Durand</td>\n",
       "      <td>100</td>\n",
       "      <td>Pessac</td>\n",
       "      <td>n</td>\n",
       "      <td>y</td>\n",
       "      <td></td>\n",
       "    </tr>\n",
       "    <tr>\n",
       "      <th>2</th>\n",
       "      <td>C33</td>\n",
       "      <td>Leboeuf</td>\n",
       "      <td>100</td>\n",
       "      <td>Bordeaux</td>\n",
       "      <td>n</td>\n",
       "      <td>n</td>\n",
       "      <td>A démarcher</td>\n",
       "    </tr>\n",
       "    <tr>\n",
       "      <th>3</th>\n",
       "      <td>C44</td>\n",
       "      <td>Carolin</td>\n",
       "      <td>100</td>\n",
       "      <td>La Rochelle</td>\n",
       "      <td>y</td>\n",
       "      <td>n</td>\n",
       "      <td></td>\n",
       "    </tr>\n",
       "  </tbody>\n",
       "</table>\n",
       "</div>"
      ],
      "text/plain": [
       "  code      nom  age        ville cuisine_a_theme livraison  commentaire\n",
       "0  C11   Martin  100     Bordeaux               y         y  A démarcher\n",
       "1  C22   Durand  100       Pessac               n         y             \n",
       "2  C33  Leboeuf  100     Bordeaux               n         n  A démarcher\n",
       "3  C44  Carolin  100  La Rochelle               y         n             "
      ]
     },
     "execution_count": 47,
     "metadata": {},
     "output_type": "execute_result"
    }
   ],
   "source": [
    "# Update column values based on conditions\n",
    "\n",
    "# Syntax : DataFrame.loc[condition, column_label] = new_value\n",
    "\n",
    "condition = (df2['ville'] == \"Bordeaux\")\n",
    "df2.loc[condition, 'commentaire'] = \"A démarcher\"\n",
    "df2"
   ]
  },
  {
   "cell_type": "code",
   "execution_count": 48,
   "metadata": {
    "scrolled": true
   },
   "outputs": [
    {
     "data": {
      "text/html": [
       "<div>\n",
       "<style scoped>\n",
       "    .dataframe tbody tr th:only-of-type {\n",
       "        vertical-align: middle;\n",
       "    }\n",
       "\n",
       "    .dataframe tbody tr th {\n",
       "        vertical-align: top;\n",
       "    }\n",
       "\n",
       "    .dataframe thead th {\n",
       "        text-align: right;\n",
       "    }\n",
       "</style>\n",
       "<table border=\"1\" class=\"dataframe\">\n",
       "  <thead>\n",
       "    <tr style=\"text-align: right;\">\n",
       "      <th></th>\n",
       "      <th>code</th>\n",
       "      <th>nom</th>\n",
       "      <th>age</th>\n",
       "      <th>ville</th>\n",
       "      <th>cuisine_a_theme</th>\n",
       "      <th>livraison</th>\n",
       "      <th>commentaire</th>\n",
       "    </tr>\n",
       "  </thead>\n",
       "  <tbody>\n",
       "    <tr>\n",
       "      <th>0</th>\n",
       "      <td>C11</td>\n",
       "      <td>Martin</td>\n",
       "      <td>100</td>\n",
       "      <td>Bordeaux</td>\n",
       "      <td>y</td>\n",
       "      <td>n</td>\n",
       "      <td>A démarcher</td>\n",
       "    </tr>\n",
       "    <tr>\n",
       "      <th>1</th>\n",
       "      <td>C22</td>\n",
       "      <td>Durand</td>\n",
       "      <td>100</td>\n",
       "      <td>Pessac</td>\n",
       "      <td>n</td>\n",
       "      <td>n</td>\n",
       "      <td></td>\n",
       "    </tr>\n",
       "    <tr>\n",
       "      <th>2</th>\n",
       "      <td>C33</td>\n",
       "      <td>Leboeuf</td>\n",
       "      <td>100</td>\n",
       "      <td>Bordeaux</td>\n",
       "      <td>n</td>\n",
       "      <td>n</td>\n",
       "      <td>A démarcher</td>\n",
       "    </tr>\n",
       "    <tr>\n",
       "      <th>3</th>\n",
       "      <td>C44</td>\n",
       "      <td>Carolin</td>\n",
       "      <td>100</td>\n",
       "      <td>La Rochelle</td>\n",
       "      <td>y</td>\n",
       "      <td>n</td>\n",
       "      <td></td>\n",
       "    </tr>\n",
       "  </tbody>\n",
       "</table>\n",
       "</div>"
      ],
      "text/plain": [
       "  code      nom  age        ville cuisine_a_theme livraison  commentaire\n",
       "0  C11   Martin  100     Bordeaux               y         n  A démarcher\n",
       "1  C22   Durand  100       Pessac               n         n             \n",
       "2  C33  Leboeuf  100     Bordeaux               n         n  A démarcher\n",
       "3  C44  Carolin  100  La Rochelle               y         n             "
      ]
     },
     "execution_count": 48,
     "metadata": {},
     "output_type": "execute_result"
    }
   ],
   "source": [
    "# Set col values using .loc\n",
    "df2.loc[:, 'livraison'] = \"n\"\n",
    "df2"
   ]
  },
  {
   "cell_type": "markdown",
   "metadata": {},
   "source": [
    "## TODO list comprehension / lambda functions"
   ]
  },
  {
   "cell_type": "markdown",
   "metadata": {},
   "source": [
    "## TODO : Delete column"
   ]
  },
  {
   "cell_type": "markdown",
   "metadata": {},
   "source": [
    "## Update row"
   ]
  },
  {
   "cell_type": "code",
   "execution_count": 49,
   "metadata": {
    "scrolled": false
   },
   "outputs": [
    {
     "data": {
      "text/html": [
       "<style  type=\"text/css\" >\n",
       "</style><table id=\"T_74f0cf9a_ab51_11eb_8367_e9f302e4b2ac\" ><thead>    <tr>        <th class=\"col_heading level0 col0\" >code</th>        <th class=\"col_heading level0 col1\" >nom</th>        <th class=\"col_heading level0 col2\" >age</th>        <th class=\"col_heading level0 col3\" >ville</th>        <th class=\"col_heading level0 col4\" >cuisine_a_theme</th>        <th class=\"col_heading level0 col5\" >livraison</th>        <th class=\"col_heading level0 col6\" >commentaire</th>    </tr></thead><tbody>\n",
       "                <tr>\n",
       "                                <td id=\"T_74f0cf9a_ab51_11eb_8367_e9f302e4b2acrow0_col0\" class=\"data row0 col0\" >C11</td>\n",
       "                        <td id=\"T_74f0cf9a_ab51_11eb_8367_e9f302e4b2acrow0_col1\" class=\"data row0 col1\" >Martin</td>\n",
       "                        <td id=\"T_74f0cf9a_ab51_11eb_8367_e9f302e4b2acrow0_col2\" class=\"data row0 col2\" >100</td>\n",
       "                        <td id=\"T_74f0cf9a_ab51_11eb_8367_e9f302e4b2acrow0_col3\" class=\"data row0 col3\" >Bordeaux</td>\n",
       "                        <td id=\"T_74f0cf9a_ab51_11eb_8367_e9f302e4b2acrow0_col4\" class=\"data row0 col4\" >y</td>\n",
       "                        <td id=\"T_74f0cf9a_ab51_11eb_8367_e9f302e4b2acrow0_col5\" class=\"data row0 col5\" >n</td>\n",
       "                        <td id=\"T_74f0cf9a_ab51_11eb_8367_e9f302e4b2acrow0_col6\" class=\"data row0 col6\" >A démarcher</td>\n",
       "            </tr>\n",
       "            <tr>\n",
       "                                <td id=\"T_74f0cf9a_ab51_11eb_8367_e9f302e4b2acrow1_col0\" class=\"data row1 col0\" >C22</td>\n",
       "                        <td id=\"T_74f0cf9a_ab51_11eb_8367_e9f302e4b2acrow1_col1\" class=\"data row1 col1\" >Durand</td>\n",
       "                        <td id=\"T_74f0cf9a_ab51_11eb_8367_e9f302e4b2acrow1_col2\" class=\"data row1 col2\" >100</td>\n",
       "                        <td id=\"T_74f0cf9a_ab51_11eb_8367_e9f302e4b2acrow1_col3\" class=\"data row1 col3\" >Pessac</td>\n",
       "                        <td id=\"T_74f0cf9a_ab51_11eb_8367_e9f302e4b2acrow1_col4\" class=\"data row1 col4\" >n</td>\n",
       "                        <td id=\"T_74f0cf9a_ab51_11eb_8367_e9f302e4b2acrow1_col5\" class=\"data row1 col5\" >n</td>\n",
       "                        <td id=\"T_74f0cf9a_ab51_11eb_8367_e9f302e4b2acrow1_col6\" class=\"data row1 col6\" ></td>\n",
       "            </tr>\n",
       "            <tr>\n",
       "                                <td id=\"T_74f0cf9a_ab51_11eb_8367_e9f302e4b2acrow2_col0\" class=\"data row2 col0\" >C33</td>\n",
       "                        <td id=\"T_74f0cf9a_ab51_11eb_8367_e9f302e4b2acrow2_col1\" class=\"data row2 col1\" >Leboeuf</td>\n",
       "                        <td id=\"T_74f0cf9a_ab51_11eb_8367_e9f302e4b2acrow2_col2\" class=\"data row2 col2\" >100</td>\n",
       "                        <td id=\"T_74f0cf9a_ab51_11eb_8367_e9f302e4b2acrow2_col3\" class=\"data row2 col3\" >Bordeaux</td>\n",
       "                        <td id=\"T_74f0cf9a_ab51_11eb_8367_e9f302e4b2acrow2_col4\" class=\"data row2 col4\" >n</td>\n",
       "                        <td id=\"T_74f0cf9a_ab51_11eb_8367_e9f302e4b2acrow2_col5\" class=\"data row2 col5\" >n</td>\n",
       "                        <td id=\"T_74f0cf9a_ab51_11eb_8367_e9f302e4b2acrow2_col6\" class=\"data row2 col6\" >A démarcher</td>\n",
       "            </tr>\n",
       "            <tr>\n",
       "                                <td id=\"T_74f0cf9a_ab51_11eb_8367_e9f302e4b2acrow3_col0\" class=\"data row3 col0\" >C44</td>\n",
       "                        <td id=\"T_74f0cf9a_ab51_11eb_8367_e9f302e4b2acrow3_col1\" class=\"data row3 col1\" >Carolin</td>\n",
       "                        <td id=\"T_74f0cf9a_ab51_11eb_8367_e9f302e4b2acrow3_col2\" class=\"data row3 col2\" >100</td>\n",
       "                        <td id=\"T_74f0cf9a_ab51_11eb_8367_e9f302e4b2acrow3_col3\" class=\"data row3 col3\" >La Rochelle</td>\n",
       "                        <td id=\"T_74f0cf9a_ab51_11eb_8367_e9f302e4b2acrow3_col4\" class=\"data row3 col4\" >y</td>\n",
       "                        <td id=\"T_74f0cf9a_ab51_11eb_8367_e9f302e4b2acrow3_col5\" class=\"data row3 col5\" >n</td>\n",
       "                        <td id=\"T_74f0cf9a_ab51_11eb_8367_e9f302e4b2acrow3_col6\" class=\"data row3 col6\" ></td>\n",
       "            </tr>\n",
       "            <tr>\n",
       "                                <td id=\"T_74f0cf9a_ab51_11eb_8367_e9f302e4b2acrow4_col0\" class=\"data row4 col0\" >TODELETE</td>\n",
       "                        <td id=\"T_74f0cf9a_ab51_11eb_8367_e9f302e4b2acrow4_col1\" class=\"data row4 col1\" >TODELETE</td>\n",
       "                        <td id=\"T_74f0cf9a_ab51_11eb_8367_e9f302e4b2acrow4_col2\" class=\"data row4 col2\" >TODELETE</td>\n",
       "                        <td id=\"T_74f0cf9a_ab51_11eb_8367_e9f302e4b2acrow4_col3\" class=\"data row4 col3\" >TODELETE</td>\n",
       "                        <td id=\"T_74f0cf9a_ab51_11eb_8367_e9f302e4b2acrow4_col4\" class=\"data row4 col4\" >TODELETE</td>\n",
       "                        <td id=\"T_74f0cf9a_ab51_11eb_8367_e9f302e4b2acrow4_col5\" class=\"data row4 col5\" >TODELETE</td>\n",
       "                        <td id=\"T_74f0cf9a_ab51_11eb_8367_e9f302e4b2acrow4_col6\" class=\"data row4 col6\" >TODELETE</td>\n",
       "            </tr>\n",
       "    </tbody></table>"
      ],
      "text/plain": [
       "<pandas.io.formats.style.Styler at 0x7fa5b9bdaee0>"
      ]
     },
     "execution_count": 49,
     "metadata": {},
     "output_type": "execute_result"
    }
   ],
   "source": [
    "# Set row values using .loc\n",
    "df2.loc['C22'] = \"TODELETE\"\n",
    "df2.style.hide_index()"
   ]
  },
  {
   "cell_type": "code",
   "execution_count": 50,
   "metadata": {
    "scrolled": true
   },
   "outputs": [
    {
     "ename": "SyntaxError",
     "evalue": "invalid syntax (<ipython-input-50-db2028ffe80c>, line 3)",
     "output_type": "error",
     "traceback": [
      "\u001b[0;36m  File \u001b[0;32m\"<ipython-input-50-db2028ffe80c>\"\u001b[0;36m, line \u001b[0;32m3\u001b[0m\n\u001b[0;31m    df['age'] = [ x for x if x < 30]\u001b[0m\n\u001b[0m                          ^\u001b[0m\n\u001b[0;31mSyntaxError\u001b[0m\u001b[0;31m:\u001b[0m invalid syntax\n"
     ]
    }
   ],
   "source": [
    "df = pd.DataFrame(clients)\n",
    "\n",
    "df['age'] = [ x for x if x < 30]"
   ]
  },
  {
   "cell_type": "markdown",
   "metadata": {},
   "source": [
    "### TODO \n",
    "- drop line\n",
    "- drop col values to na"
   ]
  }
 ],
 "metadata": {
  "kernelspec": {
   "display_name": "Python 3",
   "language": "python",
   "name": "python3"
  },
  "language_info": {
   "codemirror_mode": {
    "name": "ipython",
    "version": 3
   },
   "file_extension": ".py",
   "mimetype": "text/x-python",
   "name": "python",
   "nbconvert_exporter": "python",
   "pygments_lexer": "ipython3",
   "version": "3.8.5"
  }
 },
 "nbformat": 4,
 "nbformat_minor": 5
}
