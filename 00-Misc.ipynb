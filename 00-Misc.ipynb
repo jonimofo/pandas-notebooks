{
 "cells": [
  {
   "cell_type": "markdown",
   "metadata": {},
   "source": [
    "## Convert int in cols with NaN"
   ]
  },
  {
   "cell_type": "code",
   "execution_count": null,
   "metadata": {},
   "outputs": [],
   "source": [
    "import pandas as pd\n",
    "\n",
    "non_denommes = {\n",
    "    \"code\": ['C11','C22','C33','C44','C55','C66']\n",
    "    ,\"date_demande\": ['01/01/2021', '01/01/2021', '01/01/2021', '01/01/2021', '01/01/2021', '01/01/2021']\n",
    "    ,\"reponse_sfac\": [\"Accord\", \"Accord\", \"Entree LC\", \"Sortie LC\", \"Cloture\", \"Accord\"]\n",
    "    ,\"date_reponse\": ['22/02/2021', '22/02/2021', '22/02/2021', '22/02/2021', '22/02/2021', '22/02/2021']\n",
    "}\n",
    "denommes = {\n",
    "    \"code\": ['C22','C33']\n",
    "    ,\"date_demande\": ['15/01/2021', '16/01/2021']\n",
    "    ,\"reponse_sfac\": [\"Accord\", \"Refus\"]\n",
    "    ,\"date_reponse\": ['30/02/2021', '30/02/2021']\n",
    "    ,\"montant_accorde\": [15000, 0]\n",
    "}\n",
    "\n",
    "df_nondenommes = pd.DataFrame(non_denommes)\n",
    "df_denommes = pd.DataFrame(denommes)\n",
    "\n",
    "donnees_sfac = df_nondenommes.merge(df_denommes, on='code', how='left')\n",
    "donnees_sfac.columns = ['code_client', 'date_dem_ND', 'reponse_sfac_ND', 'date_rep_ND', \n",
    "                        'date_demande_D', 'reponse_sfac_D', 'date_rep_D', 'montant_accorde_D']\n",
    "donnees_sfac"
   ]
  },
  {
   "cell_type": "code",
   "execution_count": 4,
   "metadata": {},
   "outputs": [
    {
     "data": {
      "text/html": [
       "<div>\n",
       "<style scoped>\n",
       "    .dataframe tbody tr th:only-of-type {\n",
       "        vertical-align: middle;\n",
       "    }\n",
       "\n",
       "    .dataframe tbody tr th {\n",
       "        vertical-align: top;\n",
       "    }\n",
       "\n",
       "    .dataframe thead th {\n",
       "        text-align: right;\n",
       "    }\n",
       "</style>\n",
       "<table border=\"1\" class=\"dataframe\">\n",
       "  <thead>\n",
       "    <tr style=\"text-align: right;\">\n",
       "      <th></th>\n",
       "      <th>code_client</th>\n",
       "      <th>date_dem_ND</th>\n",
       "      <th>reponse_sfac_ND</th>\n",
       "      <th>date_rep_ND</th>\n",
       "      <th>date_demande_D</th>\n",
       "      <th>reponse_sfac_D</th>\n",
       "      <th>date_rep_D</th>\n",
       "      <th>montant_accorde_D</th>\n",
       "    </tr>\n",
       "  </thead>\n",
       "  <tbody>\n",
       "    <tr>\n",
       "      <th>0</th>\n",
       "      <td>C11</td>\n",
       "      <td>01/01/2021</td>\n",
       "      <td>Accord</td>\n",
       "      <td>22/02/2021</td>\n",
       "      <td>NaN</td>\n",
       "      <td>NaN</td>\n",
       "      <td>NaN</td>\n",
       "      <td>&lt;NA&gt;</td>\n",
       "    </tr>\n",
       "    <tr>\n",
       "      <th>1</th>\n",
       "      <td>C22</td>\n",
       "      <td>01/01/2021</td>\n",
       "      <td>Accord</td>\n",
       "      <td>22/02/2021</td>\n",
       "      <td>15/01/2021</td>\n",
       "      <td>Accord</td>\n",
       "      <td>30/02/2021</td>\n",
       "      <td>15000</td>\n",
       "    </tr>\n",
       "    <tr>\n",
       "      <th>2</th>\n",
       "      <td>C33</td>\n",
       "      <td>01/01/2021</td>\n",
       "      <td>Entree LC</td>\n",
       "      <td>22/02/2021</td>\n",
       "      <td>16/01/2021</td>\n",
       "      <td>Refus</td>\n",
       "      <td>30/02/2021</td>\n",
       "      <td>0</td>\n",
       "    </tr>\n",
       "    <tr>\n",
       "      <th>3</th>\n",
       "      <td>C44</td>\n",
       "      <td>01/01/2021</td>\n",
       "      <td>Sortie LC</td>\n",
       "      <td>22/02/2021</td>\n",
       "      <td>NaN</td>\n",
       "      <td>NaN</td>\n",
       "      <td>NaN</td>\n",
       "      <td>&lt;NA&gt;</td>\n",
       "    </tr>\n",
       "    <tr>\n",
       "      <th>4</th>\n",
       "      <td>C55</td>\n",
       "      <td>01/01/2021</td>\n",
       "      <td>Cloture</td>\n",
       "      <td>22/02/2021</td>\n",
       "      <td>NaN</td>\n",
       "      <td>NaN</td>\n",
       "      <td>NaN</td>\n",
       "      <td>&lt;NA&gt;</td>\n",
       "    </tr>\n",
       "    <tr>\n",
       "      <th>5</th>\n",
       "      <td>C66</td>\n",
       "      <td>01/01/2021</td>\n",
       "      <td>Accord</td>\n",
       "      <td>22/02/2021</td>\n",
       "      <td>NaN</td>\n",
       "      <td>NaN</td>\n",
       "      <td>NaN</td>\n",
       "      <td>&lt;NA&gt;</td>\n",
       "    </tr>\n",
       "  </tbody>\n",
       "</table>\n",
       "</div>"
      ],
      "text/plain": [
       "  code_client date_dem_ND reponse_sfac_ND date_rep_ND date_demande_D  \\\n",
       "0         C11  01/01/2021          Accord  22/02/2021            NaN   \n",
       "1         C22  01/01/2021          Accord  22/02/2021     15/01/2021   \n",
       "2         C33  01/01/2021       Entree LC  22/02/2021     16/01/2021   \n",
       "3         C44  01/01/2021       Sortie LC  22/02/2021            NaN   \n",
       "4         C55  01/01/2021         Cloture  22/02/2021            NaN   \n",
       "5         C66  01/01/2021          Accord  22/02/2021            NaN   \n",
       "\n",
       "  reponse_sfac_D  date_rep_D  montant_accorde_D  \n",
       "0            NaN         NaN               <NA>  \n",
       "1         Accord  30/02/2021              15000  \n",
       "2          Refus  30/02/2021                  0  \n",
       "3            NaN         NaN               <NA>  \n",
       "4            NaN         NaN               <NA>  \n",
       "5            NaN         NaN               <NA>  "
      ]
     },
     "execution_count": 4,
     "metadata": {},
     "output_type": "execute_result"
    }
   ],
   "source": [
    "# https://stackoverflow.com/questions/21287624/convert-pandas-column-containing-nans-to-dtype-int\n",
    "donnees_sfac['montant_accorde_D'] = donnees_sfac['montant_accorde_D'].astype(pd.Int64Dtype())\n",
    "donnees_sfac"
   ]
  },
  {
   "cell_type": "markdown",
   "metadata": {},
   "source": [
    "## Generate Fake Data"
   ]
  },
  {
   "cell_type": "code",
   "execution_count": 8,
   "metadata": {},
   "outputs": [
    {
     "data": {
      "text/html": [
       "<style  type=\"text/css\" >\n",
       "</style><table id=\"T_d65da_\" ><thead>    <tr>        <th class=\"col_heading level0 col0\" >name</th>        <th class=\"col_heading level0 col1\" >age</th>    </tr></thead><tbody>\n",
       "                <tr>\n",
       "                                <td id=\"T_d65da_row0_col0\" class=\"data row0 col0\" >Hiba Pham</td>\n",
       "                        <td id=\"T_d65da_row0_col1\" class=\"data row0 col1\" >39</td>\n",
       "            </tr>\n",
       "            <tr>\n",
       "                                <td id=\"T_d65da_row1_col0\" class=\"data row1 col0\" >Coline Loisel</td>\n",
       "                        <td id=\"T_d65da_row1_col1\" class=\"data row1 col1\" >48</td>\n",
       "            </tr>\n",
       "            <tr>\n",
       "                                <td id=\"T_d65da_row2_col0\" class=\"data row2 col0\" >Safia Riendeau</td>\n",
       "                        <td id=\"T_d65da_row2_col1\" class=\"data row2 col1\" >46</td>\n",
       "            </tr>\n",
       "    </tbody></table>"
      ],
      "text/plain": [
       "<pandas.io.formats.style.Styler at 0x7f769b1ded60>"
      ]
     },
     "execution_count": 8,
     "metadata": {},
     "output_type": "execute_result"
    }
   ],
   "source": [
    "from mimesis import Person\n",
    "from mimesis import locales\n",
    "\n",
    "\n",
    "person = Person(locales.FR)\n",
    "persons = [person.full_name(), person.age()]\n",
    "\n",
    "def create_persons(num=10):\n",
    "    persons = [{\"name\": person.full_name(),\"age\": person.age()} for x in range(num)]\n",
    "    return persons\n",
    "\n",
    "df = pd.DataFrame(create_persons(3))\n",
    "df = df.style.hide_index()\n",
    "df"
   ]
  },
  {
   "cell_type": "markdown",
   "metadata": {},
   "source": [
    "## TODO Series actions"
   ]
  },
  {
   "cell_type": "code",
   "execution_count": null,
   "metadata": {},
   "outputs": [],
   "source": [
    "# TODO\n",
    "# Calculate sum of column. Transform into a Series\n",
    "# for Numpy operations\n",
    "import numpy as np\n",
    "\n",
    "age = df['age']\n",
    "np.sum(age)"
   ]
  }
 ],
 "metadata": {
  "kernelspec": {
   "display_name": "Python 3",
   "language": "python",
   "name": "python3"
  },
  "language_info": {
   "codemirror_mode": {
    "name": "ipython",
    "version": 3
   },
   "file_extension": ".py",
   "mimetype": "text/x-python",
   "name": "python",
   "nbconvert_exporter": "python",
   "pygments_lexer": "ipython3",
   "version": "3.8.5"
  }
 },
 "nbformat": 4,
 "nbformat_minor": 5
}
